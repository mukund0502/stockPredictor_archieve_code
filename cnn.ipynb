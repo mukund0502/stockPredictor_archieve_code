{
 "cells": [
  {
   "cell_type": "code",
   "execution_count": 6,
   "metadata": {},
   "outputs": [],
   "source": [
    "import numpy as np\n",
    "import pandas as pd \n",
    "import matplotlib.pyplot as plt\n",
    "from sklearn import datasets"
   ]
  },
  {
   "cell_type": "code",
   "execution_count": 7,
   "metadata": {},
   "outputs": [],
   "source": [
    "dataset = datasets.load_digits()"
   ]
  },
  {
   "cell_type": "code",
   "execution_count": 14,
   "metadata": {},
   "outputs": [
    {
     "name": "stdout",
     "output_type": "stream",
     "text": [
      "(1797, 64) (1797,)\n"
     ]
    }
   ],
   "source": [
    "inputt = (dataset['data'])\n",
    "outputt = dataset['target']\n",
    "\n",
    "print(inputt.shape, outputt.shape)"
   ]
  },
  {
   "cell_type": "code",
   "execution_count": 24,
   "metadata": {},
   "outputs": [
    {
     "name": "stdout",
     "output_type": "stream",
     "text": [
      "(64,)\n"
     ]
    }
   ],
   "source": [
    "print(inputt[0].shape)"
   ]
  },
  {
   "cell_type": "code",
   "execution_count": 17,
   "metadata": {},
   "outputs": [
    {
     "data": {
      "text/plain": [
       "dict_keys(['data', 'target', 'frame', 'feature_names', 'target_names', 'images', 'DESCR'])"
      ]
     },
     "execution_count": 17,
     "metadata": {},
     "output_type": "execute_result"
    }
   ],
   "source": [
    "dataset.keys()"
   ]
  },
  {
   "cell_type": "code",
   "execution_count": 18,
   "metadata": {},
   "outputs": [],
   "source": [
    "images = dataset['images']\n",
    "target_name = dataset['target_names']"
   ]
  },
  {
   "cell_type": "code",
   "execution_count": 20,
   "metadata": {},
   "outputs": [
    {
     "name": "stdout",
     "output_type": "stream",
     "text": [
      "[0 1 2 3 4 5 6 7 8 9]\n",
      "[0 1 2 ... 8 9 8]\n"
     ]
    }
   ],
   "source": [
    "print(target_name)\n",
    "print(outputt)"
   ]
  },
  {
   "cell_type": "code",
   "execution_count": 49,
   "metadata": {},
   "outputs": [],
   "source": [
    "from sklearn.preprocessing import MinMaxScaler\n"
   ]
  },
  {
   "cell_type": "code",
   "execution_count": 53,
   "metadata": {},
   "outputs": [],
   "source": [
    "scaler = MinMaxScaler(feature_range=(0,1))"
   ]
  },
  {
   "cell_type": "code",
   "execution_count": 54,
   "metadata": {},
   "outputs": [],
   "source": [
    "# scaler.\n",
    "inputt = scaler.fit_transform(inputt)"
   ]
  },
  {
   "cell_type": "code",
   "execution_count": 21,
   "metadata": {},
   "outputs": [],
   "source": [
    "from tensorflow.keras.models import Sequential\n",
    "from tensorflow.keras.layers import Dense\n",
    "from tensorflow.keras.layers import Bidirectional\n"
   ]
  },
  {
   "cell_type": "code",
   "execution_count": 55,
   "metadata": {},
   "outputs": [],
   "source": [
    "classifier = Sequential()\n"
   ]
  },
  {
   "cell_type": "code",
   "execution_count": 61,
   "metadata": {},
   "outputs": [],
   "source": [
    "# Initialising the ANN\n",
    "classifier = Sequential()\n",
    "\n",
    "# Adding the input layer and the first hidden layer\n",
    "classifier.add(Dense(units = 100,input_dim = 64))\n",
    "\n",
    "# Adding the second hidden layer\n",
    "classifier.add(Dense(units = 50))\n",
    "# Adding the output layer\n",
    "classifier.add(Dense(units = 10))\n",
    "\n",
    "# Compiling the ANN\n",
    "classifier.compile(optimizer = 'adam', loss = 'binary_crossentropy', metrics = ['accuracy'])"
   ]
  },
  {
   "cell_type": "code",
   "execution_count": 62,
   "metadata": {},
   "outputs": [
    {
     "name": "stdout",
     "output_type": "stream",
     "text": [
      "Model: \"sequential_12\"\n",
      "_________________________________________________________________\n",
      " Layer (type)                Output Shape              Param #   \n",
      "=================================================================\n",
      " dense_31 (Dense)            (None, 100)               6500      \n",
      "                                                                 \n",
      " dense_32 (Dense)            (None, 50)                5050      \n",
      "                                                                 \n",
      " dense_33 (Dense)            (None, 10)                510       \n",
      "                                                                 \n",
      "=================================================================\n",
      "Total params: 12,060\n",
      "Trainable params: 12,060\n",
      "Non-trainable params: 0\n",
      "_________________________________________________________________\n"
     ]
    }
   ],
   "source": [
    "classifier.summary()"
   ]
  },
  {
   "cell_type": "code",
   "execution_count": 63,
   "metadata": {},
   "outputs": [
    {
     "name": "stdout",
     "output_type": "stream",
     "text": [
      "Epoch 1/10\n",
      "126/126 [==============================] - 1s 3ms/step - loss: -40.6169 - accuracy: 0.0565 - val_loss: -53.6190 - val_accuracy: 0.0352\n",
      "Epoch 2/10\n",
      "126/126 [==============================] - 0s 2ms/step - loss: -53.0593 - accuracy: 0.0493 - val_loss: -53.6265 - val_accuracy: 0.0333\n",
      "Epoch 3/10\n",
      "126/126 [==============================] - 0s 2ms/step - loss: -53.0599 - accuracy: 0.0501 - val_loss: -53.6265 - val_accuracy: 0.0389\n",
      "Epoch 4/10\n",
      "126/126 [==============================] - 0s 2ms/step - loss: -53.0630 - accuracy: 0.0533 - val_loss: -53.6265 - val_accuracy: 0.0389\n",
      "Epoch 5/10\n",
      "126/126 [==============================] - 0s 2ms/step - loss: -53.0630 - accuracy: 0.0533 - val_loss: -53.6265 - val_accuracy: 0.0389\n",
      "Epoch 6/10\n",
      "126/126 [==============================] - 0s 2ms/step - loss: -53.0630 - accuracy: 0.0533 - val_loss: -53.6265 - val_accuracy: 0.0389\n",
      "Epoch 7/10\n",
      "126/126 [==============================] - 0s 2ms/step - loss: -53.0630 - accuracy: 0.0533 - val_loss: -53.6265 - val_accuracy: 0.0389\n",
      "Epoch 8/10\n",
      "126/126 [==============================] - 0s 2ms/step - loss: -53.0630 - accuracy: 0.0533 - val_loss: -53.6265 - val_accuracy: 0.0389\n",
      "Epoch 9/10\n",
      "126/126 [==============================] - 0s 2ms/step - loss: -53.0630 - accuracy: 0.0533 - val_loss: -53.6265 - val_accuracy: 0.0389\n",
      "Epoch 10/10\n",
      "126/126 [==============================] - 0s 2ms/step - loss: -53.0630 - accuracy: 0.0533 - val_loss: -53.6265 - val_accuracy: 0.0389\n"
     ]
    },
    {
     "data": {
      "text/plain": [
       "<keras.callbacks.History at 0x1d33e754d30>"
      ]
     },
     "execution_count": 63,
     "metadata": {},
     "output_type": "execute_result"
    }
   ],
   "source": [
    "his = classifier.fit(inputt, outputt, validation_split=0.3, epochs=10, batch_size=10, verbose=1)"
   ]
  },
  {
   "cell_type": "code",
   "execution_count": null,
   "metadata": {},
   "outputs": [],
   "source": []
  }
 ],
 "metadata": {
  "kernelspec": {
   "display_name": "Python 3",
   "language": "python",
   "name": "python3"
  },
  "language_info": {
   "codemirror_mode": {
    "name": "ipython",
    "version": 3
   },
   "file_extension": ".py",
   "mimetype": "text/x-python",
   "name": "python",
   "nbconvert_exporter": "python",
   "pygments_lexer": "ipython3",
   "version": "3.10.9 (tags/v3.10.9:1dd9be6, Dec  6 2022, 20:01:21) [MSC v.1934 64 bit (AMD64)]"
  },
  "orig_nbformat": 4,
  "vscode": {
   "interpreter": {
    "hash": "91d4e2271cf209bade5eacc82405e130e48ddbdbe9e6210b60ee5c51482ed339"
   }
  }
 },
 "nbformat": 4,
 "nbformat_minor": 2
}
