{
 "cells": [
  {
   "cell_type": "markdown",
   "metadata": {},
   "source": [
    "### Stock Market Prediction And Forecasting Using Stacked LSTM"
   ]
  },
  {
   "cell_type": "code",
   "execution_count": 5,
   "metadata": {},
   "outputs": [],
   "source": [
    "import pandas as pd"
   ]
  },
  {
   "cell_type": "code",
   "execution_count": 2,
   "metadata": {},
   "outputs": [],
   "source": [
    "from datetime import date\n",
    "import nsepy\n",
    "df1 = nsepy.get_history(symbol = 'infy', start=date(2015, 1, 1), end=date(2023, 1, 5))['Close']"
   ]
  },
  {
   "cell_type": "code",
   "execution_count": 3,
   "metadata": {},
   "outputs": [
    {
     "ename": "NameError",
     "evalue": "name 'df' is not defined",
     "output_type": "error",
     "traceback": [
      "\u001b[1;31m---------------------------------------------------------------------------\u001b[0m",
      "\u001b[1;31mNameError\u001b[0m                                 Traceback (most recent call last)",
      "Cell \u001b[1;32mIn[3], line 1\u001b[0m\n\u001b[1;32m----> 1\u001b[0m df\u001b[39m.\u001b[39mhead()\n",
      "\u001b[1;31mNameError\u001b[0m: name 'df' is not defined"
     ]
    }
   ],
   "source": [
    "df.head()"
   ]
  },
  {
   "cell_type": "code",
   "execution_count": 8,
   "metadata": {},
   "outputs": [
    {
     "data": {
      "text/html": [
       "<div>\n",
       "<style scoped>\n",
       "    .dataframe tbody tr th:only-of-type {\n",
       "        vertical-align: middle;\n",
       "    }\n",
       "\n",
       "    .dataframe tbody tr th {\n",
       "        vertical-align: top;\n",
       "    }\n",
       "\n",
       "    .dataframe thead th {\n",
       "        text-align: right;\n",
       "    }\n",
       "</style>\n",
       "<table border=\"1\" class=\"dataframe\">\n",
       "  <thead>\n",
       "    <tr style=\"text-align: right;\">\n",
       "      <th></th>\n",
       "      <th>Unnamed: 0</th>\n",
       "      <th>symbol</th>\n",
       "      <th>date</th>\n",
       "      <th>close</th>\n",
       "      <th>high</th>\n",
       "      <th>low</th>\n",
       "      <th>open</th>\n",
       "      <th>volume</th>\n",
       "      <th>adjClose</th>\n",
       "      <th>adjHigh</th>\n",
       "      <th>adjLow</th>\n",
       "      <th>adjOpen</th>\n",
       "      <th>adjVolume</th>\n",
       "      <th>divCash</th>\n",
       "      <th>splitFactor</th>\n",
       "    </tr>\n",
       "  </thead>\n",
       "  <tbody>\n",
       "    <tr>\n",
       "      <th>1253</th>\n",
       "      <td>1253</td>\n",
       "      <td>AAPL</td>\n",
       "      <td>2020-05-18 00:00:00+00:00</td>\n",
       "      <td>314.96</td>\n",
       "      <td>316.50</td>\n",
       "      <td>310.3241</td>\n",
       "      <td>313.17</td>\n",
       "      <td>33843125</td>\n",
       "      <td>314.96</td>\n",
       "      <td>316.50</td>\n",
       "      <td>310.3241</td>\n",
       "      <td>313.17</td>\n",
       "      <td>33843125</td>\n",
       "      <td>0.0</td>\n",
       "      <td>1.0</td>\n",
       "    </tr>\n",
       "    <tr>\n",
       "      <th>1254</th>\n",
       "      <td>1254</td>\n",
       "      <td>AAPL</td>\n",
       "      <td>2020-05-19 00:00:00+00:00</td>\n",
       "      <td>313.14</td>\n",
       "      <td>318.52</td>\n",
       "      <td>313.0100</td>\n",
       "      <td>315.03</td>\n",
       "      <td>25432385</td>\n",
       "      <td>313.14</td>\n",
       "      <td>318.52</td>\n",
       "      <td>313.0100</td>\n",
       "      <td>315.03</td>\n",
       "      <td>25432385</td>\n",
       "      <td>0.0</td>\n",
       "      <td>1.0</td>\n",
       "    </tr>\n",
       "    <tr>\n",
       "      <th>1255</th>\n",
       "      <td>1255</td>\n",
       "      <td>AAPL</td>\n",
       "      <td>2020-05-20 00:00:00+00:00</td>\n",
       "      <td>319.23</td>\n",
       "      <td>319.52</td>\n",
       "      <td>316.2000</td>\n",
       "      <td>316.68</td>\n",
       "      <td>27876215</td>\n",
       "      <td>319.23</td>\n",
       "      <td>319.52</td>\n",
       "      <td>316.2000</td>\n",
       "      <td>316.68</td>\n",
       "      <td>27876215</td>\n",
       "      <td>0.0</td>\n",
       "      <td>1.0</td>\n",
       "    </tr>\n",
       "    <tr>\n",
       "      <th>1256</th>\n",
       "      <td>1256</td>\n",
       "      <td>AAPL</td>\n",
       "      <td>2020-05-21 00:00:00+00:00</td>\n",
       "      <td>316.85</td>\n",
       "      <td>320.89</td>\n",
       "      <td>315.8700</td>\n",
       "      <td>318.66</td>\n",
       "      <td>25672211</td>\n",
       "      <td>316.85</td>\n",
       "      <td>320.89</td>\n",
       "      <td>315.8700</td>\n",
       "      <td>318.66</td>\n",
       "      <td>25672211</td>\n",
       "      <td>0.0</td>\n",
       "      <td>1.0</td>\n",
       "    </tr>\n",
       "    <tr>\n",
       "      <th>1257</th>\n",
       "      <td>1257</td>\n",
       "      <td>AAPL</td>\n",
       "      <td>2020-05-22 00:00:00+00:00</td>\n",
       "      <td>318.89</td>\n",
       "      <td>319.23</td>\n",
       "      <td>315.3500</td>\n",
       "      <td>315.77</td>\n",
       "      <td>20450754</td>\n",
       "      <td>318.89</td>\n",
       "      <td>319.23</td>\n",
       "      <td>315.3500</td>\n",
       "      <td>315.77</td>\n",
       "      <td>20450754</td>\n",
       "      <td>0.0</td>\n",
       "      <td>1.0</td>\n",
       "    </tr>\n",
       "  </tbody>\n",
       "</table>\n",
       "</div>"
      ],
      "text/plain": [
       "      Unnamed: 0 symbol                       date   close    high       low  \\\n",
       "1253        1253   AAPL  2020-05-18 00:00:00+00:00  314.96  316.50  310.3241   \n",
       "1254        1254   AAPL  2020-05-19 00:00:00+00:00  313.14  318.52  313.0100   \n",
       "1255        1255   AAPL  2020-05-20 00:00:00+00:00  319.23  319.52  316.2000   \n",
       "1256        1256   AAPL  2020-05-21 00:00:00+00:00  316.85  320.89  315.8700   \n",
       "1257        1257   AAPL  2020-05-22 00:00:00+00:00  318.89  319.23  315.3500   \n",
       "\n",
       "        open    volume  adjClose  adjHigh    adjLow  adjOpen  adjVolume  \\\n",
       "1253  313.17  33843125    314.96   316.50  310.3241   313.17   33843125   \n",
       "1254  315.03  25432385    313.14   318.52  313.0100   315.03   25432385   \n",
       "1255  316.68  27876215    319.23   319.52  316.2000   316.68   27876215   \n",
       "1256  318.66  25672211    316.85   320.89  315.8700   318.66   25672211   \n",
       "1257  315.77  20450754    318.89   319.23  315.3500   315.77   20450754   \n",
       "\n",
       "      divCash  splitFactor  \n",
       "1253      0.0          1.0  \n",
       "1254      0.0          1.0  \n",
       "1255      0.0          1.0  \n",
       "1256      0.0          1.0  \n",
       "1257      0.0          1.0  "
      ]
     },
     "execution_count": 8,
     "metadata": {},
     "output_type": "execute_result"
    }
   ],
   "source": [
    "df.tail()"
   ]
  },
  {
   "cell_type": "code",
   "execution_count": 8,
   "metadata": {},
   "outputs": [],
   "source": [
    "df1 = df1.reset_index()['Close']\n"
   ]
  },
  {
   "cell_type": "code",
   "execution_count": 9,
   "metadata": {},
   "outputs": [
    {
     "data": {
      "text/plain": [
       "0       1974.40\n",
       "1       2013.20\n",
       "2       1995.90\n",
       "3       1954.20\n",
       "4       1963.55\n",
       "         ...   \n",
       "1981    1508.20\n",
       "1982    1524.00\n",
       "1983    1522.55\n",
       "1984    1494.80\n",
       "1985    1475.20\n",
       "Name: Close, Length: 1986, dtype: float64"
      ]
     },
     "execution_count": 9,
     "metadata": {},
     "output_type": "execute_result"
    }
   ],
   "source": [
    "df1\n"
   ]
  },
  {
   "cell_type": "code",
   "execution_count": 10,
   "metadata": {},
   "outputs": [
    {
     "data": {
      "text/plain": [
       "[<matplotlib.lines.Line2D at 0x291acd1e080>]"
      ]
     },
     "execution_count": 10,
     "metadata": {},
     "output_type": "execute_result"
    },
    {
     "data": {
      "image/png": "[encoded data removed]",
      "text/plain": [
       "<Figure size 640x480 with 1 Axes>"
      ]
     },
     "metadata": {},
     "output_type": "display_data"
    }
   ],
   "source": [
    "import matplotlib.pyplot as plt\n",
    "plt.plot(df1)"
   ]
  },
  {
   "cell_type": "code",
   "execution_count": 11,
   "metadata": {},
   "outputs": [],
   "source": [
    "### LSTM are sensitive to the scale of the data. so we apply MinMax scaler "
   ]
  },
  {
   "cell_type": "code",
   "execution_count": 12,
   "metadata": {},
   "outputs": [],
   "source": [
    "import numpy as np"
   ]
  },
  {
   "cell_type": "code",
   "execution_count": 13,
   "metadata": {},
   "outputs": [
    {
     "data": {
      "text/plain": [
       "0       1974.40\n",
       "1       2013.20\n",
       "2       1995.90\n",
       "3       1954.20\n",
       "4       1963.55\n",
       "         ...   \n",
       "1981    1508.20\n",
       "1982    1524.00\n",
       "1983    1522.55\n",
       "1984    1494.80\n",
       "1985    1475.20\n",
       "Name: Close, Length: 1986, dtype: float64"
      ]
     },
     "execution_count": 13,
     "metadata": {},
     "output_type": "execute_result"
    }
   ],
   "source": [
    "df1"
   ]
  },
  {
   "cell_type": "code",
   "execution_count": 14,
   "metadata": {},
   "outputs": [],
   "source": [
    "from sklearn.preprocessing import MinMaxScaler\n",
    "scaler=MinMaxScaler(feature_range=(0,1))\n",
    "df1=scaler.fit_transform(np.array(df1).reshape(-1,1))"
   ]
  },
  {
   "cell_type": "code",
   "execution_count": 15,
   "metadata": {},
   "outputs": [
    {
     "name": "stdout",
     "output_type": "stream",
     "text": [
      "[[0.8051995 ]\n",
      " [0.82677603]\n",
      " [0.81715557]\n",
      " ...\n",
      " [0.55392743]\n",
      " [0.53849576]\n",
      " [0.52759627]]\n"
     ]
    }
   ],
   "source": [
    "print(df1)"
   ]
  },
  {
   "cell_type": "code",
   "execution_count": 16,
   "metadata": {},
   "outputs": [],
   "source": [
    "##splitting dataset into train and test split\n",
    "training_size=int(len(df1)*0.65)\n",
    "test_size=len(df1)-training_size\n",
    "train_data,test_data=df1[0:training_size,:],df1[training_size:len(df1),:1]"
   ]
  },
  {
   "cell_type": "code",
   "execution_count": 17,
   "metadata": {},
   "outputs": [
    {
     "data": {
      "text/plain": [
       "(1290, 696)"
      ]
     },
     "execution_count": 17,
     "metadata": {},
     "output_type": "execute_result"
    }
   ],
   "source": [
    "training_size,test_size"
   ]
  },
  {
   "cell_type": "code",
   "execution_count": 18,
   "metadata": {},
   "outputs": [
    {
     "data": {
      "text/plain": [
       "array([[0.8051995 ],\n",
       "       [0.82677603],\n",
       "       [0.81715557],\n",
       "       ...,\n",
       "       [0.01584874],\n",
       "       [0.00436536],\n",
       "       [0.01062144]])"
      ]
     },
     "execution_count": 18,
     "metadata": {},
     "output_type": "execute_result"
    }
   ],
   "source": [
    "train_data"
   ]
  },
  {
   "cell_type": "code",
   "execution_count": 19,
   "metadata": {},
   "outputs": [],
   "source": [
    "import numpy\n",
    "# convert an array of values into a dataset matrix\n",
    "def create_dataset(dataset, time_step=1):\n",
    "\tdataX, dataY = [], []\n",
    "\tfor i in range(len(dataset)-time_step-1):\n",
    "\t\ta = dataset[i:(i+time_step), 0]   ###i=0, 0,1,2,3-----99   100 \n",
    "\t\tdataX.append(a)\n",
    "\t\tdataY.append(dataset[i + time_step, 0])\n",
    "\treturn numpy.array(dataX), numpy.array(dataY)"
   ]
  },
  {
   "cell_type": "code",
   "execution_count": 20,
   "metadata": {},
   "outputs": [],
   "source": [
    "# reshape into X=t,t+1,t+2,t+3 and Y=t+4\n",
    "time_step = 100\n",
    "X_train, y_train = create_dataset(train_data, time_step)\n",
    "X_test, ytest = create_dataset(test_data, time_step)"
   ]
  },
  {
   "cell_type": "code",
   "execution_count": 21,
   "metadata": {},
   "outputs": [
    {
     "name": "stdout",
     "output_type": "stream",
     "text": [
      "(1189, 100)\n",
      "(1189,)\n"
     ]
    },
    {
     "data": {
      "text/plain": [
       "(None, None)"
      ]
     },
     "execution_count": 21,
     "metadata": {},
     "output_type": "execute_result"
    }
   ],
   "source": [
    "print(X_train.shape), print(y_train.shape)"
   ]
  },
  {
   "cell_type": "code",
   "execution_count": 22,
   "metadata": {},
   "outputs": [
    {
     "name": "stdout",
     "output_type": "stream",
     "text": [
      "(595, 100)\n",
      "(595,)\n"
     ]
    },
    {
     "data": {
      "text/plain": [
       "(None, None)"
      ]
     },
     "execution_count": 22,
     "metadata": {},
     "output_type": "execute_result"
    }
   ],
   "source": [
    "print(X_test.shape), print(ytest.shape)"
   ]
  },
  {
   "cell_type": "code",
   "execution_count": 23,
   "metadata": {},
   "outputs": [],
   "source": [
    "# reshape input to be [samples, time steps, features] which is required for LSTM\n",
    "X_train =X_train.reshape(X_train.shape[0],X_train.shape[1] , 1)\n",
    "X_test = X_test.reshape(X_test.shape[0],X_test.shape[1] , 1)"
   ]
  },
  {
   "cell_type": "code",
   "execution_count": 24,
   "metadata": {},
   "outputs": [],
   "source": [
    "### Create the Stacked LSTM model\n",
    "from tensorflow.keras.models import Sequential\n",
    "from tensorflow.keras.layers import Dense\n",
    "from tensorflow.keras.layers import LSTM"
   ]
  },
  {
   "cell_type": "code",
   "execution_count": 25,
   "metadata": {},
   "outputs": [],
   "source": [
    "model=Sequential()\n",
    "model.add(LSTM(50,return_sequences=True,input_shape=(100,1)))\n",
    "model.add(LSTM(50,return_sequences=True))\n",
    "model.add(LSTM(50))\n",
    "model.add(Dense(1))\n",
    "model.compile(loss='mean_squared_error',optimizer='adam')\n"
   ]
  },
  {
   "cell_type": "code",
   "execution_count": 26,
   "metadata": {},
   "outputs": [
    {
     "name": "stdout",
     "output_type": "stream",
     "text": [
      "Model: \"sequential\"\n",
      "_________________________________________________________________\n",
      " Layer (type)                Output Shape              Param #   \n",
      "=================================================================\n",
      " lstm (LSTM)                 (None, 100, 50)           10400     \n",
      "                                                                 \n",
      " lstm_1 (LSTM)               (None, 100, 50)           20200     \n",
      "                                                                 \n",
      " lstm_2 (LSTM)               (None, 50)                20200     \n",
      "                                                                 \n",
      " dense (Dense)               (None, 1)                 51        \n",
      "                                                                 \n",
      "=================================================================\n",
      "Total params: 50,851\n",
      "Trainable params: 50,851\n",
      "Non-trainable params: 0\n",
      "_________________________________________________________________\n"
     ]
    }
   ],
   "source": [
    "model.summary()"
   ]
  },
  {
   "cell_type": "code",
   "execution_count": 27,
   "metadata": {},
   "outputs": [
    {
     "name": "stdout",
     "output_type": "stream",
     "text": [
      "Model: \"sequential\"\n",
      "_________________________________________________________________\n",
      " Layer (type)                Output Shape              Param #   \n",
      "=================================================================\n",
      " lstm (LSTM)                 (None, 100, 50)           10400     \n",
      "                                                                 \n",
      " lstm_1 (LSTM)               (None, 100, 50)           20200     \n",
      "                                                                 \n",
      " lstm_2 (LSTM)               (None, 50)                20200     \n",
      "                                                                 \n",
      " dense (Dense)               (None, 1)                 51        \n",
      "                                                                 \n",
      "=================================================================\n",
      "Total params: 50,851\n",
      "Trainable params: 50,851\n",
      "Non-trainable params: 0\n",
      "_________________________________________________________________\n"
     ]
    }
   ],
   "source": [
    "model.summary()"
   ]
  },
  {
   "cell_type": "code",
   "execution_count": null,
   "metadata": {},
   "outputs": [],
   "source": []
  },
  {
   "cell_type": "code",
   "execution_count": 28,
   "metadata": {},
   "outputs": [
    {
     "name": "stdout",
     "output_type": "stream",
     "text": [
      "Epoch 1/100\n",
      "19/19 [==============================] - 16s 480ms/step - loss: 0.0183 - val_loss: 0.0354\n",
      "Epoch 2/100\n",
      "19/19 [==============================] - 7s 369ms/step - loss: 0.0043 - val_loss: 0.0130\n",
      "Epoch 3/100\n",
      "19/19 [==============================] - 7s 373ms/step - loss: 0.0033 - val_loss: 0.0024\n",
      "Epoch 4/100\n",
      "19/19 [==============================] - 7s 358ms/step - loss: 0.0031 - val_loss: 0.0021\n",
      "Epoch 5/100\n",
      "19/19 [==============================] - 6s 315ms/step - loss: 0.0026 - val_loss: 0.0047\n",
      "Epoch 6/100\n",
      "19/19 [==============================] - 7s 362ms/step - loss: 0.0022 - val_loss: 0.0043\n",
      "Epoch 7/100\n",
      "19/19 [==============================] - 7s 363ms/step - loss: 0.0020 - val_loss: 0.0053\n",
      "Epoch 8/100\n",
      "19/19 [==============================] - 7s 350ms/step - loss: 0.0018 - val_loss: 0.0031\n",
      "Epoch 9/100\n",
      "19/19 [==============================] - 8s 402ms/step - loss: 0.0017 - val_loss: 0.0046\n",
      "Epoch 10/100\n",
      "19/19 [==============================] - 7s 358ms/step - loss: 0.0018 - val_loss: 0.0047\n",
      "Epoch 11/100\n",
      "19/19 [==============================] - 6s 304ms/step - loss: 0.0016 - val_loss: 0.0037\n",
      "Epoch 12/100\n",
      "19/19 [==============================] - 5s 271ms/step - loss: 0.0015 - val_loss: 0.0030\n",
      "Epoch 13/100\n",
      "19/19 [==============================] - 5s 255ms/step - loss: 0.0015 - val_loss: 0.0042\n",
      "Epoch 14/100\n",
      "19/19 [==============================] - 5s 245ms/step - loss: 0.0014 - val_loss: 0.0033\n",
      "Epoch 15/100\n",
      "19/19 [==============================] - 5s 247ms/step - loss: 0.0014 - val_loss: 0.0012\n",
      "Epoch 16/100\n",
      "19/19 [==============================] - 5s 257ms/step - loss: 0.0015 - val_loss: 0.0025\n",
      "Epoch 17/100\n",
      "19/19 [==============================] - 5s 254ms/step - loss: 0.0013 - val_loss: 0.0052\n",
      "Epoch 18/100\n",
      "19/19 [==============================] - 5s 278ms/step - loss: 0.0013 - val_loss: 0.0032\n",
      "Epoch 19/100\n",
      "19/19 [==============================] - 6s 293ms/step - loss: 0.0012 - val_loss: 0.0038\n",
      "Epoch 20/100\n",
      "19/19 [==============================] - 5s 285ms/step - loss: 0.0012 - val_loss: 0.0033\n",
      "Epoch 21/100\n",
      "19/19 [==============================] - 5s 289ms/step - loss: 0.0013 - val_loss: 0.0030\n",
      "Epoch 22/100\n",
      "19/19 [==============================] - 5s 274ms/step - loss: 0.0011 - val_loss: 0.0033\n",
      "Epoch 23/100\n",
      "19/19 [==============================] - 6s 303ms/step - loss: 9.5690e-04 - val_loss: 0.0066\n",
      "Epoch 24/100\n",
      "19/19 [==============================] - 5s 290ms/step - loss: 0.0011 - val_loss: 0.0060\n",
      "Epoch 25/100\n",
      "19/19 [==============================] - 4s 236ms/step - loss: 0.0011 - val_loss: 0.0091\n",
      "Epoch 26/100\n",
      "19/19 [==============================] - 4s 237ms/step - loss: 0.0014 - val_loss: 0.0045\n",
      "Epoch 27/100\n",
      "19/19 [==============================] - 4s 234ms/step - loss: 0.0012 - val_loss: 0.0034\n",
      "Epoch 28/100\n",
      "19/19 [==============================] - 5s 245ms/step - loss: 0.0010 - val_loss: 0.0016\n",
      "Epoch 29/100\n",
      "19/19 [==============================] - 5s 240ms/step - loss: 9.6674e-04 - val_loss: 0.0053\n",
      "Epoch 30/100\n",
      "19/19 [==============================] - 4s 234ms/step - loss: 0.0011 - val_loss: 0.0028\n",
      "Epoch 31/100\n",
      "19/19 [==============================] - 5s 241ms/step - loss: 9.5994e-04 - val_loss: 0.0043\n",
      "Epoch 32/100\n",
      "19/19 [==============================] - 4s 236ms/step - loss: 9.4839e-04 - val_loss: 0.0032\n",
      "Epoch 33/100\n",
      "19/19 [==============================] - 5s 239ms/step - loss: 8.9890e-04 - val_loss: 0.0064\n",
      "Epoch 34/100\n",
      "19/19 [==============================] - 5s 244ms/step - loss: 9.3075e-04 - val_loss: 0.0022\n",
      "Epoch 35/100\n",
      "19/19 [==============================] - 5s 251ms/step - loss: 8.5482e-04 - val_loss: 0.0036\n",
      "Epoch 36/100\n",
      "19/19 [==============================] - 5s 244ms/step - loss: 0.0011 - val_loss: 0.0032\n",
      "Epoch 37/100\n",
      "19/19 [==============================] - 5s 242ms/step - loss: 8.8281e-04 - val_loss: 0.0020\n",
      "Epoch 38/100\n",
      "19/19 [==============================] - 5s 284ms/step - loss: 8.1711e-04 - val_loss: 0.0020\n",
      "Epoch 39/100\n",
      "19/19 [==============================] - 7s 370ms/step - loss: 9.9427e-04 - val_loss: 0.0052\n",
      "Epoch 40/100\n",
      "19/19 [==============================] - 6s 319ms/step - loss: 8.4965e-04 - val_loss: 0.0017\n",
      "Epoch 41/100\n",
      "19/19 [==============================] - 5s 283ms/step - loss: 8.6923e-04 - val_loss: 0.0016\n",
      "Epoch 42/100\n",
      "19/19 [==============================] - 6s 314ms/step - loss: 9.1656e-04 - val_loss: 0.0041\n",
      "Epoch 43/100\n",
      "19/19 [==============================] - 6s 294ms/step - loss: 8.8849e-04 - val_loss: 0.0073\n",
      "Epoch 44/100\n",
      "19/19 [==============================] - 5s 278ms/step - loss: 9.0985e-04 - val_loss: 0.0033\n",
      "Epoch 45/100\n",
      "19/19 [==============================] - 5s 277ms/step - loss: 7.4998e-04 - val_loss: 0.0030\n",
      "Epoch 46/100\n",
      "19/19 [==============================] - 5s 277ms/step - loss: 7.0287e-04 - val_loss: 0.0037\n",
      "Epoch 47/100\n",
      "19/19 [==============================] - 5s 269ms/step - loss: 8.2191e-04 - val_loss: 0.0030\n",
      "Epoch 48/100\n",
      "19/19 [==============================] - 5s 246ms/step - loss: 9.9785e-04 - val_loss: 0.0068\n",
      "Epoch 49/100\n",
      "19/19 [==============================] - 4s 236ms/step - loss: 8.8387e-04 - val_loss: 0.0052\n",
      "Epoch 50/100\n",
      "19/19 [==============================] - 5s 250ms/step - loss: 0.0011 - val_loss: 0.0014\n",
      "Epoch 51/100\n",
      "19/19 [==============================] - 4s 236ms/step - loss: 9.5289e-04 - val_loss: 0.0023\n",
      "Epoch 52/100\n",
      "19/19 [==============================] - 5s 243ms/step - loss: 7.3729e-04 - val_loss: 0.0014\n",
      "Epoch 53/100\n",
      "19/19 [==============================] - 5s 245ms/step - loss: 7.2880e-04 - val_loss: 0.0011\n",
      "Epoch 54/100\n",
      "19/19 [==============================] - 5s 242ms/step - loss: 7.1175e-04 - val_loss: 0.0014\n",
      "Epoch 55/100\n",
      "19/19 [==============================] - 5s 243ms/step - loss: 7.6366e-04 - val_loss: 0.0045\n",
      "Epoch 56/100\n",
      "19/19 [==============================] - 5s 248ms/step - loss: 7.2788e-04 - val_loss: 0.0027\n",
      "Epoch 57/100\n",
      "19/19 [==============================] - 5s 241ms/step - loss: 8.2012e-04 - val_loss: 0.0011\n",
      "Epoch 58/100\n",
      "19/19 [==============================] - 5s 245ms/step - loss: 6.0081e-04 - val_loss: 0.0022\n",
      "Epoch 59/100\n",
      "19/19 [==============================] - 5s 246ms/step - loss: 7.3386e-04 - val_loss: 0.0037\n",
      "Epoch 60/100\n",
      "19/19 [==============================] - 5s 246ms/step - loss: 7.4848e-04 - val_loss: 0.0011\n",
      "Epoch 61/100\n",
      "19/19 [==============================] - 5s 251ms/step - loss: 7.2479e-04 - val_loss: 8.4002e-04\n",
      "Epoch 62/100\n",
      "19/19 [==============================] - 4s 229ms/step - loss: 6.3171e-04 - val_loss: 0.0017\n",
      "Epoch 63/100\n",
      "19/19 [==============================] - 5s 257ms/step - loss: 6.5004e-04 - val_loss: 0.0032\n",
      "Epoch 64/100\n",
      "19/19 [==============================] - 5s 241ms/step - loss: 6.2203e-04 - val_loss: 0.0011\n",
      "Epoch 65/100\n",
      "19/19 [==============================] - 5s 257ms/step - loss: 5.7507e-04 - val_loss: 7.9069e-04\n",
      "Epoch 66/100\n",
      "19/19 [==============================] - 5s 249ms/step - loss: 5.5611e-04 - val_loss: 0.0029\n",
      "Epoch 67/100\n",
      "19/19 [==============================] - 5s 257ms/step - loss: 5.5905e-04 - val_loss: 0.0017\n",
      "Epoch 68/100\n",
      "19/19 [==============================] - 5s 262ms/step - loss: 7.4042e-04 - val_loss: 0.0025\n",
      "Epoch 69/100\n",
      "19/19 [==============================] - 5s 253ms/step - loss: 6.0067e-04 - val_loss: 0.0013\n",
      "Epoch 70/100\n",
      "19/19 [==============================] - 5s 255ms/step - loss: 5.4034e-04 - val_loss: 0.0011\n",
      "Epoch 71/100\n",
      "19/19 [==============================] - 5s 270ms/step - loss: 5.8392e-04 - val_loss: 0.0018\n",
      "Epoch 72/100\n",
      "19/19 [==============================] - 6s 307ms/step - loss: 5.4768e-04 - val_loss: 0.0016\n",
      "Epoch 73/100\n",
      "19/19 [==============================] - 5s 262ms/step - loss: 5.2831e-04 - val_loss: 7.8635e-04\n",
      "Epoch 74/100\n",
      "19/19 [==============================] - 5s 275ms/step - loss: 4.9194e-04 - val_loss: 0.0013\n",
      "Epoch 75/100\n",
      "19/19 [==============================] - 5s 257ms/step - loss: 5.5519e-04 - val_loss: 7.6509e-04\n",
      "Epoch 76/100\n",
      "19/19 [==============================] - 5s 262ms/step - loss: 6.0483e-04 - val_loss: 8.4481e-04\n",
      "Epoch 77/100\n",
      "19/19 [==============================] - 5s 257ms/step - loss: 5.1691e-04 - val_loss: 8.4742e-04\n",
      "Epoch 78/100\n",
      "19/19 [==============================] - 5s 260ms/step - loss: 4.7806e-04 - val_loss: 7.9671e-04\n",
      "Epoch 79/100\n",
      "19/19 [==============================] - 5s 272ms/step - loss: 6.0621e-04 - val_loss: 0.0028\n",
      "Epoch 80/100\n",
      "19/19 [==============================] - 5s 259ms/step - loss: 6.0045e-04 - val_loss: 8.6012e-04\n",
      "Epoch 81/100\n",
      "19/19 [==============================] - 5s 271ms/step - loss: 5.2934e-04 - val_loss: 0.0030\n",
      "Epoch 82/100\n",
      "19/19 [==============================] - 5s 271ms/step - loss: 5.6180e-04 - val_loss: 7.1673e-04\n",
      "Epoch 83/100\n",
      "19/19 [==============================] - 5s 279ms/step - loss: 5.1844e-04 - val_loss: 0.0024\n",
      "Epoch 84/100\n",
      "19/19 [==============================] - 5s 262ms/step - loss: 4.7892e-04 - val_loss: 5.9936e-04\n",
      "Epoch 85/100\n",
      "19/19 [==============================] - 5s 269ms/step - loss: 4.9077e-04 - val_loss: 0.0013\n",
      "Epoch 86/100\n",
      "19/19 [==============================] - 5s 261ms/step - loss: 5.2071e-04 - val_loss: 0.0015\n",
      "Epoch 87/100\n",
      "19/19 [==============================] - 5s 267ms/step - loss: 4.9394e-04 - val_loss: 0.0025\n",
      "Epoch 88/100\n",
      "19/19 [==============================] - 5s 270ms/step - loss: 5.2887e-04 - val_loss: 4.5449e-04\n",
      "Epoch 89/100\n",
      "19/19 [==============================] - 5s 275ms/step - loss: 5.1076e-04 - val_loss: 0.0026\n",
      "Epoch 90/100\n",
      "19/19 [==============================] - 5s 273ms/step - loss: 5.6357e-04 - val_loss: 0.0031\n",
      "Epoch 91/100\n",
      "19/19 [==============================] - 5s 275ms/step - loss: 7.1401e-04 - val_loss: 0.0030\n",
      "Epoch 92/100\n",
      "19/19 [==============================] - 5s 265ms/step - loss: 5.6766e-04 - val_loss: 0.0036\n",
      "Epoch 93/100\n",
      "19/19 [==============================] - 5s 278ms/step - loss: 5.4996e-04 - val_loss: 0.0012\n",
      "Epoch 94/100\n",
      "19/19 [==============================] - 5s 269ms/step - loss: 6.4052e-04 - val_loss: 9.0532e-04\n",
      "Epoch 95/100\n",
      "19/19 [==============================] - 6s 296ms/step - loss: 5.2343e-04 - val_loss: 5.4915e-04\n",
      "Epoch 96/100\n",
      "19/19 [==============================] - 5s 275ms/step - loss: 4.7701e-04 - val_loss: 0.0013\n",
      "Epoch 97/100\n",
      "19/19 [==============================] - 5s 278ms/step - loss: 4.9380e-04 - val_loss: 0.0015\n",
      "Epoch 98/100\n",
      "19/19 [==============================] - 5s 268ms/step - loss: 5.3673e-04 - val_loss: 0.0012\n",
      "Epoch 99/100\n",
      "19/19 [==============================] - 5s 279ms/step - loss: 5.9392e-04 - val_loss: 7.1422e-04\n",
      "Epoch 100/100\n",
      "19/19 [==============================] - 5s 274ms/step - loss: 5.7591e-04 - val_loss: 0.0018\n"
     ]
    },
    {
     "data": {
      "text/plain": [
       "<keras.callbacks.History at 0x291c78f3e50>"
      ]
     },
     "execution_count": 28,
     "metadata": {},
     "output_type": "execute_result"
    }
   ],
   "source": [
    "model.fit(X_train,y_train,validation_data=(X_test,ytest),epochs=100,batch_size=64,verbose=1)"
   ]
  },
  {
   "cell_type": "code",
   "execution_count": 40,
   "metadata": {},
   "outputs": [
    {
     "name": "stdout",
     "output_type": "stream",
     "text": [
      "38/38 [==============================] - 2s 46ms/step\n",
      "19/19 [==============================] - 1s 45ms/step\n"
     ]
    }
   ],
   "source": [
    "### Lets Do the prediction and check performance metrics\n",
    "train_predict=model.predict(X_train)\n",
    "test_predict=model.predict(X_test)"
   ]
  },
  {
   "cell_type": "code",
   "execution_count": 41,
   "metadata": {},
   "outputs": [],
   "source": [
    "##Transformback to original form\n",
    "train_predict=scaler.inverse_transform(train_predict)\n",
    "test_predict=scaler.inverse_transform(test_predict)"
   ]
  },
  {
   "cell_type": "code",
   "execution_count": 42,
   "metadata": {},
   "outputs": [
    {
     "data": {
      "text/plain": [
       "983.5704487102525"
      ]
     },
     "execution_count": 42,
     "metadata": {},
     "output_type": "execute_result"
    }
   ],
   "source": [
    "### Calculate RMSE performance metrics\n",
    "import math\n",
    "from sklearn.metrics import mean_squared_error\n",
    "math.sqrt(mean_squared_error(y_train,train_predict))"
   ]
  },
  {
   "cell_type": "code",
   "execution_count": 43,
   "metadata": {},
   "outputs": [
    {
     "data": {
      "text/plain": [
       "1440.8813687430206"
      ]
     },
     "execution_count": 43,
     "metadata": {},
     "output_type": "execute_result"
    }
   ],
   "source": [
    "### Test Data RMSE\n",
    "math.sqrt(mean_squared_error(ytest,test_predict))"
   ]
  },
  {
   "cell_type": "code",
   "execution_count": 44,
   "metadata": {},
   "outputs": [
    {
     "data": {
      "image/png": "[encoded data removed]",
      "text/plain": [
       "<Figure size 640x480 with 1 Axes>"
      ]
     },
     "metadata": {},
     "output_type": "display_data"
    }
   ],
   "source": [
    "### Plotting \n",
    "# shift train predictions for plotting\n",
    "look_back=100\n",
    "trainPredictPlot = numpy.empty_like(df1)\n",
    "trainPredictPlot[:, :] = np.nan\n",
    "trainPredictPlot[look_back:len(train_predict)+look_back, :] = train_predict\n",
    "# shift test predictions for plotting\n",
    "testPredictPlot = numpy.empty_like(df1)\n",
    "testPredictPlot[:, :] = numpy.nan\n",
    "testPredictPlot[len(train_predict)+(look_back*2)+1:len(df1)-1, :] = test_predict\n",
    "# plot baseline and predictions\n",
    "plt.plot(scaler.inverse_transform(df1))\n",
    "plt.plot(trainPredictPlot)\n",
    "plt.plot(testPredictPlot)\n",
    "plt.show()"
   ]
  },
  {
   "cell_type": "code",
   "execution_count": 45,
   "metadata": {},
   "outputs": [
    {
     "data": {
      "text/plain": [
       "696"
      ]
     },
     "execution_count": 45,
     "metadata": {},
     "output_type": "execute_result"
    }
   ],
   "source": [
    "len(test_data)"
   ]
  },
  {
   "cell_type": "code",
   "execution_count": 51,
   "metadata": {},
   "outputs": [
    {
     "data": {
      "text/plain": [
       "(1, 0)"
      ]
     },
     "execution_count": 51,
     "metadata": {},
     "output_type": "execute_result"
    }
   ],
   "source": [
    "x_input=test_data[696:].reshape(1,-1)\n",
    "x_input.shape\n"
   ]
  },
  {
   "cell_type": "code",
   "execution_count": null,
   "metadata": {},
   "outputs": [],
   "source": []
  },
  {
   "cell_type": "code",
   "execution_count": null,
   "metadata": {},
   "outputs": [],
   "source": []
  },
  {
   "cell_type": "code",
   "execution_count": 52,
   "metadata": {},
   "outputs": [],
   "source": [
    "temp_input=list(x_input)\n",
    "temp_input=temp_input[0].tolist()"
   ]
  },
  {
   "cell_type": "code",
   "execution_count": 53,
   "metadata": {},
   "outputs": [
    {
     "data": {
      "text/plain": [
       "[]"
      ]
     },
     "execution_count": 53,
     "metadata": {},
     "output_type": "execute_result"
    }
   ],
   "source": [
    "temp_input"
   ]
  },
  {
   "cell_type": "code",
   "execution_count": 54,
   "metadata": {},
   "outputs": [
    {
     "ename": "InvalidArgumentError",
     "evalue": "Graph execution error:\n\ntranspose expects a vector of size 2. But input(1) is a vector of size 3\n\t [[{{node transpose}}]]\n\t [[sequential/lstm/PartitionedCall]] [Op:__inference_predict_function_24247]",
     "output_type": "error",
     "traceback": [
      "\u001b[1;31m---------------------------------------------------------------------------\u001b[0m",
      "\u001b[1;31mInvalidArgumentError\u001b[0m                      Traceback (most recent call last)",
      "Cell \u001b[1;32mIn[54], line 25\u001b[0m\n\u001b[0;32m     22\u001b[0m     i\u001b[39m=\u001b[39mi\u001b[39m+\u001b[39m\u001b[39m1\u001b[39m\n\u001b[0;32m     23\u001b[0m \u001b[39melse\u001b[39;00m:\n\u001b[0;32m     24\u001b[0m     \u001b[39m# x_input = x_input.reshape((1, n_steps,1))\u001b[39;00m\n\u001b[1;32m---> 25\u001b[0m     yhat \u001b[39m=\u001b[39m model\u001b[39m.\u001b[39;49mpredict(x_input, verbose\u001b[39m=\u001b[39;49m\u001b[39m0\u001b[39;49m)\n\u001b[0;32m     26\u001b[0m     \u001b[39mprint\u001b[39m(yhat[\u001b[39m0\u001b[39m])\n\u001b[0;32m     27\u001b[0m     temp_input\u001b[39m.\u001b[39mextend(yhat[\u001b[39m0\u001b[39m]\u001b[39m.\u001b[39mtolist())\n",
      "File \u001b[1;32mc:\\Users\\Mukund Mishra\\AppData\\Local\\Programs\\Python\\Python310\\lib\\site-packages\\keras\\utils\\traceback_utils.py:70\u001b[0m, in \u001b[0;36mfilter_traceback.<locals>.error_handler\u001b[1;34m(*args, **kwargs)\u001b[0m\n\u001b[0;32m     67\u001b[0m     filtered_tb \u001b[39m=\u001b[39m _process_traceback_frames(e\u001b[39m.\u001b[39m__traceback__)\n\u001b[0;32m     68\u001b[0m     \u001b[39m# To get the full stack trace, call:\u001b[39;00m\n\u001b[0;32m     69\u001b[0m     \u001b[39m# `tf.debugging.disable_traceback_filtering()`\u001b[39;00m\n\u001b[1;32m---> 70\u001b[0m     \u001b[39mraise\u001b[39;00m e\u001b[39m.\u001b[39mwith_traceback(filtered_tb) \u001b[39mfrom\u001b[39;00m \u001b[39mNone\u001b[39m\n\u001b[0;32m     71\u001b[0m \u001b[39mfinally\u001b[39;00m:\n\u001b[0;32m     72\u001b[0m     \u001b[39mdel\u001b[39;00m filtered_tb\n",
      "File \u001b[1;32mc:\\Users\\Mukund Mishra\\AppData\\Local\\Programs\\Python\\Python310\\lib\\site-packages\\tensorflow\\python\\eager\\execute.py:52\u001b[0m, in \u001b[0;36mquick_execute\u001b[1;34m(op_name, num_outputs, inputs, attrs, ctx, name)\u001b[0m\n\u001b[0;32m     50\u001b[0m \u001b[39mtry\u001b[39;00m:\n\u001b[0;32m     51\u001b[0m   ctx\u001b[39m.\u001b[39mensure_initialized()\n\u001b[1;32m---> 52\u001b[0m   tensors \u001b[39m=\u001b[39m pywrap_tfe\u001b[39m.\u001b[39mTFE_Py_Execute(ctx\u001b[39m.\u001b[39m_handle, device_name, op_name,\n\u001b[0;32m     53\u001b[0m                                       inputs, attrs, num_outputs)\n\u001b[0;32m     54\u001b[0m \u001b[39mexcept\u001b[39;00m core\u001b[39m.\u001b[39m_NotOkStatusException \u001b[39mas\u001b[39;00m e:\n\u001b[0;32m     55\u001b[0m   \u001b[39mif\u001b[39;00m name \u001b[39mis\u001b[39;00m \u001b[39mnot\u001b[39;00m \u001b[39mNone\u001b[39;00m:\n",
      "\u001b[1;31mInvalidArgumentError\u001b[0m: Graph execution error:\n\ntranspose expects a vector of size 2. But input(1) is a vector of size 3\n\t [[{{node transpose}}]]\n\t [[sequential/lstm/PartitionedCall]] [Op:__inference_predict_function_24247]"
     ]
    }
   ],
   "source": [
    "# demonstrate prediction for next 10 days\n",
    "from numpy import array\n",
    "\n",
    "lst_output=[]\n",
    "n_steps=100\n",
    "i=0\n",
    "while(i<30):\n",
    "\n",
    "    if(len(temp_input)>100):\n",
    "        #print(temp_input)\n",
    "        x_input=np.array(temp_input[1:])\n",
    "        print(\"{} day input {}\".format(i,x_input))\n",
    "        x_input=x_input.reshape(1,-1)\n",
    "        x_input = x_input.reshape((1, n_steps, 1))\n",
    "        #print(x_input)\n",
    "        yhat = model.predict(x_input, verbose=0)\n",
    "        print(\"{} day output {}\".format(i,yhat))\n",
    "        temp_input.extend(yhat[0].tolist())\n",
    "        temp_input=temp_input[1:]\n",
    "        #print(temp_input)\n",
    "        lst_output.extend(yhat.tolist())\n",
    "        i=i+1\n",
    "    else:\n",
    "        # x_input = x_input.reshape((1, n_steps,1))\n",
    "        yhat = model.predict(x_input, verbose=0)\n",
    "        print(yhat[0])\n",
    "        temp_input.extend(yhat[0].tolist())\n",
    "        print(len(temp_input))\n",
    "        lst_output.extend(yhat.tolist())\n",
    "        i=i+1\n",
    "    \n",
    "\n",
    "print(lst_output)"
   ]
  },
  {
   "cell_type": "code",
   "execution_count": 55,
   "metadata": {},
   "outputs": [],
   "source": [
    "day_new=np.arange(1,101)\n",
    "day_pred=np.arange(101,161)"
   ]
  },
  {
   "cell_type": "code",
   "execution_count": 56,
   "metadata": {},
   "outputs": [],
   "source": [
    "import matplotlib.pyplot as plt"
   ]
  },
  {
   "cell_type": "code",
   "execution_count": 57,
   "metadata": {},
   "outputs": [
    {
     "data": {
      "text/plain": [
       "1986"
      ]
     },
     "execution_count": 57,
     "metadata": {},
     "output_type": "execute_result"
    }
   ],
   "source": [
    "len(df1)"
   ]
  },
  {
   "cell_type": "code",
   "execution_count": null,
   "metadata": {},
   "outputs": [],
   "source": []
  },
  {
   "cell_type": "code",
   "execution_count": 58,
   "metadata": {},
   "outputs": [
    {
     "ename": "ValueError",
     "evalue": "x and y must have same first dimension, but have shapes (100,) and (828, 1)",
     "output_type": "error",
     "traceback": [
      "\u001b[1;31m---------------------------------------------------------------------------\u001b[0m",
      "\u001b[1;31mValueError\u001b[0m                                Traceback (most recent call last)",
      "Cell \u001b[1;32mIn[58], line 1\u001b[0m\n\u001b[1;32m----> 1\u001b[0m plt\u001b[39m.\u001b[39;49mplot(day_new,scaler\u001b[39m.\u001b[39;49minverse_transform(df1[\u001b[39m1158\u001b[39;49m:]))\n\u001b[0;32m      2\u001b[0m plt\u001b[39m.\u001b[39mplot(day_pred,scaler\u001b[39m.\u001b[39minverse_transform(lst_output))\n",
      "File \u001b[1;32mc:\\Users\\Mukund Mishra\\AppData\\Local\\Programs\\Python\\Python310\\lib\\site-packages\\matplotlib\\pyplot.py:2740\u001b[0m, in \u001b[0;36mplot\u001b[1;34m(scalex, scaley, data, *args, **kwargs)\u001b[0m\n\u001b[0;32m   2738\u001b[0m \u001b[39m@_copy_docstring_and_deprecators\u001b[39m(Axes\u001b[39m.\u001b[39mplot)\n\u001b[0;32m   2739\u001b[0m \u001b[39mdef\u001b[39;00m \u001b[39mplot\u001b[39m(\u001b[39m*\u001b[39margs, scalex\u001b[39m=\u001b[39m\u001b[39mTrue\u001b[39;00m, scaley\u001b[39m=\u001b[39m\u001b[39mTrue\u001b[39;00m, data\u001b[39m=\u001b[39m\u001b[39mNone\u001b[39;00m, \u001b[39m*\u001b[39m\u001b[39m*\u001b[39mkwargs):\n\u001b[1;32m-> 2740\u001b[0m     \u001b[39mreturn\u001b[39;00m gca()\u001b[39m.\u001b[39mplot(\n\u001b[0;32m   2741\u001b[0m         \u001b[39m*\u001b[39margs, scalex\u001b[39m=\u001b[39mscalex, scaley\u001b[39m=\u001b[39mscaley,\n\u001b[0;32m   2742\u001b[0m         \u001b[39m*\u001b[39m\u001b[39m*\u001b[39m({\u001b[39m\"\u001b[39m\u001b[39mdata\u001b[39m\u001b[39m\"\u001b[39m: data} \u001b[39mif\u001b[39;00m data \u001b[39mis\u001b[39;00m \u001b[39mnot\u001b[39;00m \u001b[39mNone\u001b[39;00m \u001b[39melse\u001b[39;00m {}), \u001b[39m*\u001b[39m\u001b[39m*\u001b[39mkwargs)\n",
      "File \u001b[1;32mc:\\Users\\Mukund Mishra\\AppData\\Local\\Programs\\Python\\Python310\\lib\\site-packages\\matplotlib\\axes\\_axes.py:1662\u001b[0m, in \u001b[0;36mAxes.plot\u001b[1;34m(self, scalex, scaley, data, *args, **kwargs)\u001b[0m\n\u001b[0;32m   1419\u001b[0m \u001b[39m\u001b[39m\u001b[39m\"\"\"\u001b[39;00m\n\u001b[0;32m   1420\u001b[0m \u001b[39mPlot y versus x as lines and/or markers.\u001b[39;00m\n\u001b[0;32m   1421\u001b[0m \n\u001b[1;32m   (...)\u001b[0m\n\u001b[0;32m   1659\u001b[0m \u001b[39m(``'green'``) or hex strings (``'#008000'``).\u001b[39;00m\n\u001b[0;32m   1660\u001b[0m \u001b[39m\"\"\"\u001b[39;00m\n\u001b[0;32m   1661\u001b[0m kwargs \u001b[39m=\u001b[39m cbook\u001b[39m.\u001b[39mnormalize_kwargs(kwargs, mlines\u001b[39m.\u001b[39mLine2D)\n\u001b[1;32m-> 1662\u001b[0m lines \u001b[39m=\u001b[39m [\u001b[39m*\u001b[39m\u001b[39mself\u001b[39m\u001b[39m.\u001b[39m_get_lines(\u001b[39m*\u001b[39margs, data\u001b[39m=\u001b[39mdata, \u001b[39m*\u001b[39m\u001b[39m*\u001b[39mkwargs)]\n\u001b[0;32m   1663\u001b[0m \u001b[39mfor\u001b[39;00m line \u001b[39min\u001b[39;00m lines:\n\u001b[0;32m   1664\u001b[0m     \u001b[39mself\u001b[39m\u001b[39m.\u001b[39madd_line(line)\n",
      "File \u001b[1;32mc:\\Users\\Mukund Mishra\\AppData\\Local\\Programs\\Python\\Python310\\lib\\site-packages\\matplotlib\\axes\\_base.py:311\u001b[0m, in \u001b[0;36m_process_plot_var_args.__call__\u001b[1;34m(self, data, *args, **kwargs)\u001b[0m\n\u001b[0;32m    309\u001b[0m     this \u001b[39m+\u001b[39m\u001b[39m=\u001b[39m args[\u001b[39m0\u001b[39m],\n\u001b[0;32m    310\u001b[0m     args \u001b[39m=\u001b[39m args[\u001b[39m1\u001b[39m:]\n\u001b[1;32m--> 311\u001b[0m \u001b[39myield from\u001b[39;00m \u001b[39mself\u001b[39;49m\u001b[39m.\u001b[39;49m_plot_args(\n\u001b[0;32m    312\u001b[0m     this, kwargs, ambiguous_fmt_datakey\u001b[39m=\u001b[39;49mambiguous_fmt_datakey)\n",
      "File \u001b[1;32mc:\\Users\\Mukund Mishra\\AppData\\Local\\Programs\\Python\\Python310\\lib\\site-packages\\matplotlib\\axes\\_base.py:504\u001b[0m, in \u001b[0;36m_process_plot_var_args._plot_args\u001b[1;34m(self, tup, kwargs, return_kwargs, ambiguous_fmt_datakey)\u001b[0m\n\u001b[0;32m    501\u001b[0m     \u001b[39mself\u001b[39m\u001b[39m.\u001b[39maxes\u001b[39m.\u001b[39myaxis\u001b[39m.\u001b[39mupdate_units(y)\n\u001b[0;32m    503\u001b[0m \u001b[39mif\u001b[39;00m x\u001b[39m.\u001b[39mshape[\u001b[39m0\u001b[39m] \u001b[39m!=\u001b[39m y\u001b[39m.\u001b[39mshape[\u001b[39m0\u001b[39m]:\n\u001b[1;32m--> 504\u001b[0m     \u001b[39mraise\u001b[39;00m \u001b[39mValueError\u001b[39;00m(\u001b[39mf\u001b[39m\u001b[39m\"\u001b[39m\u001b[39mx and y must have same first dimension, but \u001b[39m\u001b[39m\"\u001b[39m\n\u001b[0;32m    505\u001b[0m                      \u001b[39mf\u001b[39m\u001b[39m\"\u001b[39m\u001b[39mhave shapes \u001b[39m\u001b[39m{\u001b[39;00mx\u001b[39m.\u001b[39mshape\u001b[39m}\u001b[39;00m\u001b[39m and \u001b[39m\u001b[39m{\u001b[39;00my\u001b[39m.\u001b[39mshape\u001b[39m}\u001b[39;00m\u001b[39m\"\u001b[39m)\n\u001b[0;32m    506\u001b[0m \u001b[39mif\u001b[39;00m x\u001b[39m.\u001b[39mndim \u001b[39m>\u001b[39m \u001b[39m2\u001b[39m \u001b[39mor\u001b[39;00m y\u001b[39m.\u001b[39mndim \u001b[39m>\u001b[39m \u001b[39m2\u001b[39m:\n\u001b[0;32m    507\u001b[0m     \u001b[39mraise\u001b[39;00m \u001b[39mValueError\u001b[39;00m(\u001b[39mf\u001b[39m\u001b[39m\"\u001b[39m\u001b[39mx and y can be no greater than 2D, but have \u001b[39m\u001b[39m\"\u001b[39m\n\u001b[0;32m    508\u001b[0m                      \u001b[39mf\u001b[39m\u001b[39m\"\u001b[39m\u001b[39mshapes \u001b[39m\u001b[39m{\u001b[39;00mx\u001b[39m.\u001b[39mshape\u001b[39m}\u001b[39;00m\u001b[39m and \u001b[39m\u001b[39m{\u001b[39;00my\u001b[39m.\u001b[39mshape\u001b[39m}\u001b[39;00m\u001b[39m\"\u001b[39m)\n",
      "\u001b[1;31mValueError\u001b[0m: x and y must have same first dimension, but have shapes (100,) and (828, 1)"
     ]
    },
    {
     "data": {
      "image/png": "[encoded data removed]",
      "text/plain": [
       "<Figure size 640x480 with 1 Axes>"
      ]
     },
     "metadata": {},
     "output_type": "display_data"
    }
   ],
   "source": [
    "plt.plot(day_new,scaler.inverse_transform(df1[1158:]))\n",
    "plt.plot(day_pred,scaler.inverse_transform(lst_output))"
   ]
  },
  {
   "cell_type": "code",
   "execution_count": 93,
   "metadata": {},
   "outputs": [
    {
     "data": {
      "text/plain": [
       "[<matplotlib.lines.Line2D at 0x1c4c8dda770>]"
      ]
     },
     "execution_count": 93,
     "metadata": {},
     "output_type": "execute_result"
    },
    {
     "data": {
      "image/png": "[encoded data removed]",
      "text/plain": [
       "<Figure size 640x480 with 1 Axes>"
      ]
     },
     "metadata": {},
     "output_type": "display_data"
    }
   ],
   "source": [
    "df3=df1.tolist()\n",
    "df3.extend(lst_output)\n",
    "plt.plot(df3[1200:])"
   ]
  },
  {
   "cell_type": "code",
   "execution_count": 94,
   "metadata": {},
   "outputs": [],
   "source": [
    "df3=scaler.inverse_transform(df3).tolist()"
   ]
  },
  {
   "cell_type": "code",
   "execution_count": 95,
   "metadata": {},
   "outputs": [
    {
     "data": {
      "text/plain": [
       "[<matplotlib.lines.Line2D at 0x1c4c8db8610>]"
      ]
     },
     "execution_count": 95,
     "metadata": {},
     "output_type": "execute_result"
    },
    {
     "data": {
      "image/png": "[encoded data removed]",
      "text/plain": [
       "<Figure size 640x480 with 1 Axes>"
      ]
     },
     "metadata": {},
     "output_type": "display_data"
    }
   ],
   "source": [
    "plt.plot(df3)"
   ]
  },
  {
   "cell_type": "code",
   "execution_count": null,
   "metadata": {},
   "outputs": [],
   "source": []
  }
 ],
 "metadata": {
  "kernelspec": {
   "display_name": "Python 3",
   "language": "python",
   "name": "python3"
  },
  "language_info": {
   "codemirror_mode": {
    "name": "ipython",
    "version": 3
   },
   "file_extension": ".py",
   "mimetype": "text/x-python",
   "name": "python",
   "nbconvert_exporter": "python",
   "pygments_lexer": "ipython3",
   "version": "3.10.9 (tags/v3.10.9:1dd9be6, Dec  6 2022, 20:01:21) [MSC v.1934 64 bit (AMD64)]"
  },
  "vscode": {
   "interpreter": {
    "hash": "91d4e2271cf209bade5eacc82405e130e48ddbdbe9e6210b60ee5c51482ed339"
   }
  }
 },
 "nbformat": 4,
 "nbformat_minor": 2
}
