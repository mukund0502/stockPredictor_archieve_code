{
 "cells": [
  {
   "cell_type": "code",
   "execution_count": 73,
   "metadata": {},
   "outputs": [],
   "source": [
    "# @author: Sreenivas Bhattiprolu\n",
    "\n",
    "import numpy as np\n",
    "from tensorflow.keras.models import Sequential\n",
    "from tensorflow.keras.layers import LSTM\n",
    "from tensorflow.keras.layers import Dense, Dropout\n",
    "import pandas as pd\n",
    "from matplotlib import pyplot as plt\n",
    "from sklearn.preprocessing import StandardScaler\n",
    "import seaborn as sns\n",
    "from datetime import datetime\n"
   ]
  },
  {
   "cell_type": "code",
   "execution_count": 74,
   "metadata": {},
   "outputs": [
    {
     "name": "stdout",
     "output_type": "stream",
     "text": [
      "                        date    close     high     low    open    volume\n",
      "0  2015-05-27 00:00:00+00:00  132.045  132.260  130.05  130.34  45833246\n",
      "1  2015-05-28 00:00:00+00:00  131.780  131.950  131.10  131.86  30733309\n",
      "2  2015-05-29 00:00:00+00:00  130.280  131.450  129.90  131.23  50884452\n",
      "3  2015-06-01 00:00:00+00:00  130.535  131.390  130.05  131.20  32112797\n",
      "4  2015-06-02 00:00:00+00:00  129.960  130.655  129.32  129.86  33667627\n"
     ]
    }
   ],
   "source": [
    "df = pd.read_csv('AAPL.csv')\n",
    "print(df.head()) #7 columns, including the Date. \n"
   ]
  },
  {
   "cell_type": "code",
   "execution_count": 75,
   "metadata": {},
   "outputs": [
    {
     "data": {
      "text/html": [
       "<div>\n",
       "<style scoped>\n",
       "    .dataframe tbody tr th:only-of-type {\n",
       "        vertical-align: middle;\n",
       "    }\n",
       "\n",
       "    .dataframe tbody tr th {\n",
       "        vertical-align: top;\n",
       "    }\n",
       "\n",
       "    .dataframe thead th {\n",
       "        text-align: right;\n",
       "    }\n",
       "</style>\n",
       "<table border=\"1\" class=\"dataframe\">\n",
       "  <thead>\n",
       "    <tr style=\"text-align: right;\">\n",
       "      <th></th>\n",
       "      <th>date</th>\n",
       "      <th>close</th>\n",
       "      <th>high</th>\n",
       "      <th>low</th>\n",
       "      <th>open</th>\n",
       "      <th>volume</th>\n",
       "    </tr>\n",
       "  </thead>\n",
       "  <tbody>\n",
       "    <tr>\n",
       "      <th>1253</th>\n",
       "      <td>2020-05-18 00:00:00+00:00</td>\n",
       "      <td>314.96</td>\n",
       "      <td>316.50</td>\n",
       "      <td>310.3241</td>\n",
       "      <td>313.17</td>\n",
       "      <td>33843125</td>\n",
       "    </tr>\n",
       "    <tr>\n",
       "      <th>1254</th>\n",
       "      <td>2020-05-19 00:00:00+00:00</td>\n",
       "      <td>313.14</td>\n",
       "      <td>318.52</td>\n",
       "      <td>313.0100</td>\n",
       "      <td>315.03</td>\n",
       "      <td>25432385</td>\n",
       "    </tr>\n",
       "    <tr>\n",
       "      <th>1255</th>\n",
       "      <td>2020-05-20 00:00:00+00:00</td>\n",
       "      <td>319.23</td>\n",
       "      <td>319.52</td>\n",
       "      <td>316.2000</td>\n",
       "      <td>316.68</td>\n",
       "      <td>27876215</td>\n",
       "    </tr>\n",
       "    <tr>\n",
       "      <th>1256</th>\n",
       "      <td>2020-05-21 00:00:00+00:00</td>\n",
       "      <td>316.85</td>\n",
       "      <td>320.89</td>\n",
       "      <td>315.8700</td>\n",
       "      <td>318.66</td>\n",
       "      <td>25672211</td>\n",
       "    </tr>\n",
       "    <tr>\n",
       "      <th>1257</th>\n",
       "      <td>2020-05-22 00:00:00+00:00</td>\n",
       "      <td>318.89</td>\n",
       "      <td>319.23</td>\n",
       "      <td>315.3500</td>\n",
       "      <td>315.77</td>\n",
       "      <td>20450754</td>\n",
       "    </tr>\n",
       "  </tbody>\n",
       "</table>\n",
       "</div>"
      ],
      "text/plain": [
       "                           date   close    high       low    open    volume\n",
       "1253  2020-05-18 00:00:00+00:00  314.96  316.50  310.3241  313.17  33843125\n",
       "1254  2020-05-19 00:00:00+00:00  313.14  318.52  313.0100  315.03  25432385\n",
       "1255  2020-05-20 00:00:00+00:00  319.23  319.52  316.2000  316.68  27876215\n",
       "1256  2020-05-21 00:00:00+00:00  316.85  320.89  315.8700  318.66  25672211\n",
       "1257  2020-05-22 00:00:00+00:00  318.89  319.23  315.3500  315.77  20450754"
      ]
     },
     "execution_count": 75,
     "metadata": {},
     "output_type": "execute_result"
    }
   ],
   "source": [
    "df.tail()"
   ]
  },
  {
   "cell_type": "code",
   "execution_count": null,
   "metadata": {},
   "outputs": [],
   "source": []
  },
  {
   "cell_type": "code",
   "execution_count": 76,
   "metadata": {},
   "outputs": [
    {
     "name": "stdout",
     "output_type": "stream",
     "text": [
      "1243   2020-05-04 00:00:00+00:00\n",
      "1244   2020-05-05 00:00:00+00:00\n",
      "1245   2020-05-06 00:00:00+00:00\n",
      "1246   2020-05-07 00:00:00+00:00\n",
      "1247   2020-05-08 00:00:00+00:00\n",
      "1248   2020-05-11 00:00:00+00:00\n",
      "1249   2020-05-12 00:00:00+00:00\n",
      "1250   2020-05-13 00:00:00+00:00\n",
      "1251   2020-05-14 00:00:00+00:00\n",
      "1252   2020-05-15 00:00:00+00:00\n",
      "1253   2020-05-18 00:00:00+00:00\n",
      "1254   2020-05-19 00:00:00+00:00\n",
      "1255   2020-05-20 00:00:00+00:00\n",
      "1256   2020-05-21 00:00:00+00:00\n",
      "1257   2020-05-22 00:00:00+00:00\n",
      "Name: date, dtype: datetime64[ns, UTC]\n"
     ]
    }
   ],
   "source": [
    "#Separate dates for future plotting\n",
    "train_dates = pd.to_datetime(df['date'])\n",
    "print(train_dates.tail(15)) #Check last few dates. \n"
   ]
  },
  {
   "cell_type": "code",
   "execution_count": 77,
   "metadata": {},
   "outputs": [
    {
     "name": "stdout",
     "output_type": "stream",
     "text": [
      "['close', 'high', 'low', 'open', 'volume']\n"
     ]
    }
   ],
   "source": [
    "\n",
    "#Variables for training\n",
    "cols = list(df)[1:6]\n",
    "#Date and volume columns are not used in training. \n",
    "print(cols) #['Open', 'High', 'Low', 'Close', 'Adj Close']\n"
   ]
  },
  {
   "cell_type": "code",
   "execution_count": 78,
   "metadata": {},
   "outputs": [
    {
     "name": "stdout",
     "output_type": "stream",
     "text": [
      "['date', 'close', 'high', 'low', 'open', 'volume']\n"
     ]
    }
   ],
   "source": [
    "print(list(df))"
   ]
  },
  {
   "cell_type": "code",
   "execution_count": 79,
   "metadata": {},
   "outputs": [],
   "source": [
    "\n",
    "#New dataframe with only training data - 5 columns\n",
    "df_for_training = df[cols].astype(float)\n",
    "\n",
    "# df_for_plot=df_for_training.tail(5000)\n",
    "# df_for_plot.plot.line()\n"
   ]
  },
  {
   "cell_type": "code",
   "execution_count": 80,
   "metadata": {},
   "outputs": [
    {
     "data": {
      "text/html": [
       "<div>\n",
       "<style scoped>\n",
       "    .dataframe tbody tr th:only-of-type {\n",
       "        vertical-align: middle;\n",
       "    }\n",
       "\n",
       "    .dataframe tbody tr th {\n",
       "        vertical-align: top;\n",
       "    }\n",
       "\n",
       "    .dataframe thead th {\n",
       "        text-align: right;\n",
       "    }\n",
       "</style>\n",
       "<table border=\"1\" class=\"dataframe\">\n",
       "  <thead>\n",
       "    <tr style=\"text-align: right;\">\n",
       "      <th></th>\n",
       "      <th>close</th>\n",
       "      <th>high</th>\n",
       "      <th>low</th>\n",
       "      <th>open</th>\n",
       "      <th>volume</th>\n",
       "    </tr>\n",
       "  </thead>\n",
       "  <tbody>\n",
       "    <tr>\n",
       "      <th>0</th>\n",
       "      <td>132.045</td>\n",
       "      <td>132.260</td>\n",
       "      <td>130.05</td>\n",
       "      <td>130.34</td>\n",
       "      <td>45833246.0</td>\n",
       "    </tr>\n",
       "    <tr>\n",
       "      <th>1</th>\n",
       "      <td>131.780</td>\n",
       "      <td>131.950</td>\n",
       "      <td>131.10</td>\n",
       "      <td>131.86</td>\n",
       "      <td>30733309.0</td>\n",
       "    </tr>\n",
       "    <tr>\n",
       "      <th>2</th>\n",
       "      <td>130.280</td>\n",
       "      <td>131.450</td>\n",
       "      <td>129.90</td>\n",
       "      <td>131.23</td>\n",
       "      <td>50884452.0</td>\n",
       "    </tr>\n",
       "    <tr>\n",
       "      <th>3</th>\n",
       "      <td>130.535</td>\n",
       "      <td>131.390</td>\n",
       "      <td>130.05</td>\n",
       "      <td>131.20</td>\n",
       "      <td>32112797.0</td>\n",
       "    </tr>\n",
       "    <tr>\n",
       "      <th>4</th>\n",
       "      <td>129.960</td>\n",
       "      <td>130.655</td>\n",
       "      <td>129.32</td>\n",
       "      <td>129.86</td>\n",
       "      <td>33667627.0</td>\n",
       "    </tr>\n",
       "  </tbody>\n",
       "</table>\n",
       "</div>"
      ],
      "text/plain": [
       "     close     high     low    open      volume\n",
       "0  132.045  132.260  130.05  130.34  45833246.0\n",
       "1  131.780  131.950  131.10  131.86  30733309.0\n",
       "2  130.280  131.450  129.90  131.23  50884452.0\n",
       "3  130.535  131.390  130.05  131.20  32112797.0\n",
       "4  129.960  130.655  129.32  129.86  33667627.0"
      ]
     },
     "execution_count": 80,
     "metadata": {},
     "output_type": "execute_result"
    }
   ],
   "source": [
    "df_for_training.head()"
   ]
  },
  {
   "cell_type": "code",
   "execution_count": 81,
   "metadata": {},
   "outputs": [],
   "source": [
    "\n",
    "#LSTM uses sigmoid and tanh that are sensitive to magnitude so values need to be normalized\n",
    "# normalize the dataset\n",
    "scaler = StandardScaler()\n",
    "scaler = scaler.fit(df_for_training)\n",
    "df_for_training_scaled = scaler.transform(df_for_training)\n",
    "\n"
   ]
  },
  {
   "cell_type": "code",
   "execution_count": 82,
   "metadata": {},
   "outputs": [
    {
     "data": {
      "text/plain": [
       "array([[-0.62783971, -0.64321905, -0.64285248, -0.65750369,  0.62654466],\n",
       "       [-0.63250289, -0.64861249, -0.62409729, -0.63064392, -0.24708587],\n",
       "       [-0.65889824, -0.65731158, -0.64553179, -0.64177658,  0.9187901 ],\n",
       "       ...,\n",
       "       [ 2.66603573,  2.6147645 ,  2.68217447,  2.63529253, -0.41238752],\n",
       "       [ 2.62415511,  2.63860001,  2.67627998,  2.67028092, -0.53990363],\n",
       "       [ 2.66005279,  2.60971903,  2.6669917 ,  2.61921201, -0.84199921]])"
      ]
     },
     "execution_count": 82,
     "metadata": {},
     "output_type": "execute_result"
    }
   ],
   "source": [
    "df_for_training_scaled"
   ]
  },
  {
   "cell_type": "code",
   "execution_count": 83,
   "metadata": {},
   "outputs": [
    {
     "data": {
      "text/plain": [
       "array([[-0.62783971, -0.64321905, -0.64285248, -0.65750369,  0.62654466],\n",
       "       [-0.63250289, -0.64861249, -0.62409729, -0.63064392, -0.24708587],\n",
       "       [-0.65889824, -0.65731158, -0.64553179, -0.64177658,  0.9187901 ],\n",
       "       ...,\n",
       "       [ 2.66603573,  2.6147645 ,  2.68217447,  2.63529253, -0.41238752],\n",
       "       [ 2.62415511,  2.63860001,  2.67627998,  2.67028092, -0.53990363],\n",
       "       [ 2.66005279,  2.60971903,  2.6669917 ,  2.61921201, -0.84199921]])"
      ]
     },
     "execution_count": 83,
     "metadata": {},
     "output_type": "execute_result"
    }
   ],
   "source": [
    "scaler2 = StandardScaler()\n",
    "check = scaler2.fit_transform(df_for_training)\n",
    "check"
   ]
  },
  {
   "cell_type": "code",
   "execution_count": 84,
   "metadata": {},
   "outputs": [],
   "source": [
    "\n",
    "#As required for LSTM networks, we require to reshape an input data into n_samples x timesteps x n_features. \n",
    "#In this example, the n_features is 5. We will make timesteps = 14 (past days data used for training). \n",
    "\n",
    "#Empty lists to be populated using formatted training data\n",
    "trainX = []\n",
    "trainY = []\n",
    "\n",
    "n_future = 1   # Number of days we want to look into the future based on the past days.\n",
    "n_past = 14  # Number of past days we want to use to predict the future.\n",
    "\n",
    "#Reformat input data into a shape: (n_samples x timesteps x n_features)\n",
    "#In my example, my df_for_training_scaled has a shape (12823, 5)\n",
    "#12823 refers to the number of data points and 5 refers to the columns (multi-variables).\n",
    "for i in range(n_past, len(df_for_training_scaled) - n_future +1):\n",
    "    trainX.append(df_for_training_scaled[i - n_past:i, 0:df_for_training.shape[1]])\n",
    "    trainY.append(df_for_training_scaled[i + n_future - 1:i + n_future, 0])\n",
    "\n",
    "trainX, trainY = np.array(trainX), np.array(trainY)\n"
   ]
  },
  {
   "cell_type": "code",
   "execution_count": 85,
   "metadata": {},
   "outputs": [
    {
     "name": "stdout",
     "output_type": "stream",
     "text": [
      "trainX shape == (1244, 14, 5).\n",
      "trainY shape == (1244, 1).\n"
     ]
    }
   ],
   "source": [
    "print('trainX shape == {}.'.format(trainX.shape))\n",
    "print('trainY shape == {}.'.format(trainY.shape))"
   ]
  },
  {
   "cell_type": "code",
   "execution_count": 86,
   "metadata": {},
   "outputs": [
    {
     "name": "stdout",
     "output_type": "stream",
     "text": [
      "trainX shape == (1244, 14, 5).\n",
      "trainY shape == (1244, 1).\n",
      "Model: \"sequential_4\"\n",
      "_________________________________________________________________\n",
      " Layer (type)                Output Shape              Param #   \n",
      "=================================================================\n",
      " lstm_8 (LSTM)               (None, 14, 64)            17920     \n",
      "                                                                 \n",
      " lstm_9 (LSTM)               (None, 32)                12416     \n",
      "                                                                 \n",
      " dropout_4 (Dropout)         (None, 32)                0         \n",
      "                                                                 \n",
      " dense_4 (Dense)             (None, 1)                 33        \n",
      "                                                                 \n",
      "=================================================================\n",
      "Total params: 30,369\n",
      "Trainable params: 30,369\n",
      "Non-trainable params: 0\n",
      "_________________________________________________________________\n"
     ]
    }
   ],
   "source": [
    "\n",
    "print('trainX shape == {}.'.format(trainX.shape))\n",
    "print('trainY shape == {}.'.format(trainY.shape))\n",
    "\n",
    "#In my case, trainX has a shape (12809, 14, 5). \n",
    "#12809 because we are looking back 14 days (12823 - 14 = 12809). \n",
    "#Remember that we cannot look back 14 days until we get to the 15th day. \n",
    "#Also, trainY has a shape (12809, 1). Our model only predicts a single value, but \n",
    "#it needs multiple variables (5 in my example) to make this prediction. \n",
    "#This is why we can only predict a single day after our training, the day after where our data ends.\n",
    "#To predict more days in future, we need all the 5 variables which we do not have. \n",
    "#We need to predict all variables if we want to do that. \n",
    "\n",
    "# define the Autoencoder model\n",
    "\n",
    "model = Sequential()\n",
    "model.add(LSTM(64, activation='relu', input_shape=(trainX.shape[1], trainX.shape[2]), return_sequences=True))\n",
    "model.add(LSTM(32, activation='relu', return_sequences=False))\n",
    "model.add(Dropout(0.2))\n",
    "model.add(Dense(trainY.shape[1]))\n",
    "\n",
    "model.compile(optimizer='adam', loss='mse')\n",
    "model.summary()\n"
   ]
  },
  {
   "cell_type": "code",
   "execution_count": 87,
   "metadata": {},
   "outputs": [
    {
     "name": "stdout",
     "output_type": "stream",
     "text": [
      "Epoch 1/50\n",
      "70/70 [==============================] - 12s 41ms/step - loss: 0.0928 - val_loss: 0.7233\n",
      "Epoch 2/50\n",
      "70/70 [==============================] - 1s 19ms/step - loss: 0.0257 - val_loss: 0.1135\n",
      "Epoch 3/50\n",
      "70/70 [==============================] - 1s 19ms/step - loss: 0.0261 - val_loss: 0.1912\n",
      "Epoch 4/50\n",
      "70/70 [==============================] - 1s 18ms/step - loss: 0.0228 - val_loss: 0.2211\n",
      "Epoch 5/50\n",
      "70/70 [==============================] - 1s 19ms/step - loss: 0.0224 - val_loss: 0.1019\n",
      "Epoch 6/50\n",
      "70/70 [==============================] - 2s 22ms/step - loss: 0.0242 - val_loss: 0.0740\n",
      "Epoch 7/50\n",
      "70/70 [==============================] - 1s 19ms/step - loss: 0.0200 - val_loss: 0.4290\n",
      "Epoch 8/50\n",
      "70/70 [==============================] - 1s 19ms/step - loss: 0.0200 - val_loss: 0.0984\n",
      "Epoch 9/50\n",
      "70/70 [==============================] - 1s 19ms/step - loss: 0.0209 - val_loss: 0.1687\n",
      "Epoch 10/50\n",
      "70/70 [==============================] - 1s 18ms/step - loss: 0.0221 - val_loss: 0.0695\n",
      "Epoch 11/50\n",
      "70/70 [==============================] - 1s 18ms/step - loss: 0.0180 - val_loss: 0.1640\n",
      "Epoch 12/50\n",
      "70/70 [==============================] - 1s 19ms/step - loss: 0.0212 - val_loss: 0.0655\n",
      "Epoch 13/50\n",
      "70/70 [==============================] - 1s 19ms/step - loss: 0.0188 - val_loss: 0.0679\n",
      "Epoch 14/50\n",
      "70/70 [==============================] - 1s 19ms/step - loss: 0.0199 - val_loss: 0.0507\n",
      "Epoch 15/50\n",
      "70/70 [==============================] - 1s 20ms/step - loss: 0.0187 - val_loss: 0.0586\n",
      "Epoch 16/50\n",
      "70/70 [==============================] - 1s 19ms/step - loss: 0.0179 - val_loss: 0.1309\n",
      "Epoch 17/50\n",
      "70/70 [==============================] - 1s 18ms/step - loss: 0.0177 - val_loss: 0.1213\n",
      "Epoch 18/50\n",
      "70/70 [==============================] - 1s 21ms/step - loss: 0.0193 - val_loss: 0.0644\n",
      "Epoch 19/50\n",
      "70/70 [==============================] - 1s 19ms/step - loss: 0.0172 - val_loss: 0.0451\n",
      "Epoch 20/50\n",
      "70/70 [==============================] - 1s 21ms/step - loss: 0.0171 - val_loss: 0.0382\n",
      "Epoch 21/50\n",
      "70/70 [==============================] - 1s 19ms/step - loss: 0.0157 - val_loss: 0.0460\n",
      "Epoch 22/50\n",
      "70/70 [==============================] - 2s 23ms/step - loss: 0.0162 - val_loss: 0.0491\n",
      "Epoch 23/50\n",
      "70/70 [==============================] - 1s 19ms/step - loss: 0.0171 - val_loss: 0.0449\n",
      "Epoch 24/50\n",
      "70/70 [==============================] - 1s 19ms/step - loss: 0.0156 - val_loss: 0.0777\n",
      "Epoch 25/50\n",
      "70/70 [==============================] - 1s 18ms/step - loss: 0.0152 - val_loss: 0.0476\n",
      "Epoch 26/50\n",
      "70/70 [==============================] - 2s 22ms/step - loss: 0.0161 - val_loss: 0.0591\n",
      "Epoch 27/50\n",
      "70/70 [==============================] - 1s 18ms/step - loss: 0.0155 - val_loss: 0.0582\n",
      "Epoch 28/50\n",
      "70/70 [==============================] - 1s 19ms/step - loss: 0.0170 - val_loss: 0.0460\n",
      "Epoch 29/50\n",
      "70/70 [==============================] - 1s 18ms/step - loss: 0.0164 - val_loss: 0.1817\n",
      "Epoch 30/50\n",
      "70/70 [==============================] - 2s 23ms/step - loss: 0.0167 - val_loss: 0.0779\n",
      "Epoch 31/50\n",
      "70/70 [==============================] - 1s 18ms/step - loss: 0.0156 - val_loss: 0.1179\n",
      "Epoch 32/50\n",
      "70/70 [==============================] - 1s 20ms/step - loss: 0.0157 - val_loss: 0.0750\n",
      "Epoch 33/50\n",
      "70/70 [==============================] - 1s 18ms/step - loss: 0.0160 - val_loss: 0.0497\n",
      "Epoch 34/50\n",
      "70/70 [==============================] - 1s 18ms/step - loss: 0.0139 - val_loss: 0.0831\n",
      "Epoch 35/50\n",
      "70/70 [==============================] - 1s 18ms/step - loss: 0.0151 - val_loss: 0.1474\n",
      "Epoch 36/50\n",
      "70/70 [==============================] - 1s 20ms/step - loss: 0.0167 - val_loss: 0.1212\n",
      "Epoch 37/50\n",
      "70/70 [==============================] - 1s 18ms/step - loss: 0.0136 - val_loss: 0.0684\n",
      "Epoch 38/50\n",
      "70/70 [==============================] - 1s 19ms/step - loss: 0.0146 - val_loss: 0.1522\n",
      "Epoch 39/50\n",
      "70/70 [==============================] - 1s 19ms/step - loss: 0.0158 - val_loss: 0.0345\n",
      "Epoch 40/50\n",
      "70/70 [==============================] - 1s 20ms/step - loss: 0.0142 - val_loss: 0.0361\n",
      "Epoch 41/50\n",
      "70/70 [==============================] - 1s 18ms/step - loss: 0.0132 - val_loss: 0.0628\n",
      "Epoch 42/50\n",
      "70/70 [==============================] - 1s 21ms/step - loss: 0.0133 - val_loss: 0.1188\n",
      "Epoch 43/50\n",
      "70/70 [==============================] - 1s 19ms/step - loss: 0.0145 - val_loss: 0.0767\n",
      "Epoch 44/50\n",
      "70/70 [==============================] - 1s 19ms/step - loss: 0.0157 - val_loss: 0.0842\n",
      "Epoch 45/50\n",
      "70/70 [==============================] - 1s 18ms/step - loss: 0.0145 - val_loss: 0.0471\n",
      "Epoch 46/50\n",
      "70/70 [==============================] - 1s 19ms/step - loss: 0.0146 - val_loss: 0.1008\n",
      "Epoch 47/50\n",
      "70/70 [==============================] - 1s 18ms/step - loss: 0.0144 - val_loss: 0.0692\n",
      "Epoch 48/50\n",
      "70/70 [==============================] - 2s 22ms/step - loss: 0.0143 - val_loss: 0.0262\n",
      "Epoch 49/50\n",
      "70/70 [==============================] - 1s 18ms/step - loss: 0.0148 - val_loss: 0.0808\n",
      "Epoch 50/50\n",
      "70/70 [==============================] - 1s 20ms/step - loss: 0.0139 - val_loss: 0.0367\n"
     ]
    }
   ],
   "source": [
    "\n",
    "# fit the model\n",
    "history = model.fit(trainX, trainY, epochs=50, batch_size=16, validation_split=0.1, verbose=1)\n"
   ]
  },
  {
   "cell_type": "code",
   "execution_count": 88,
   "metadata": {},
   "outputs": [
    {
     "data": {
      "text/plain": [
       "<matplotlib.legend.Legend at 0x18fe2cd8fd0>"
      ]
     },
     "execution_count": 88,
     "metadata": {},
     "output_type": "execute_result"
    },
    {
     "data": {
      "image/png": "[encoded data removed]",
      "text/plain": [
       "<Figure size 640x480 with 1 Axes>"
      ]
     },
     "metadata": {},
     "output_type": "display_data"
    }
   ],
   "source": [
    "\n",
    "plt.plot(history.history['loss'], label='Training loss')\n",
    "plt.plot(history.history['val_loss'], label='Validation loss')\n",
    "plt.legend()"
   ]
  },
  {
   "cell_type": "code",
   "execution_count": 89,
   "metadata": {},
   "outputs": [
    {
     "name": "stdout",
     "output_type": "stream",
     "text": [
      "[Timestamp('2020-05-01 00:00:00+0000', tz='UTC', freq='C'), Timestamp('2020-05-04 00:00:00+0000', tz='UTC', freq='C'), Timestamp('2020-05-05 00:00:00+0000', tz='UTC', freq='C'), Timestamp('2020-05-06 00:00:00+0000', tz='UTC', freq='C'), Timestamp('2020-05-07 00:00:00+0000', tz='UTC', freq='C'), Timestamp('2020-05-08 00:00:00+0000', tz='UTC', freq='C'), Timestamp('2020-05-11 00:00:00+0000', tz='UTC', freq='C'), Timestamp('2020-05-12 00:00:00+0000', tz='UTC', freq='C'), Timestamp('2020-05-13 00:00:00+0000', tz='UTC', freq='C'), Timestamp('2020-05-14 00:00:00+0000', tz='UTC', freq='C'), Timestamp('2020-05-15 00:00:00+0000', tz='UTC', freq='C'), Timestamp('2020-05-18 00:00:00+0000', tz='UTC', freq='C'), Timestamp('2020-05-19 00:00:00+0000', tz='UTC', freq='C'), Timestamp('2020-05-20 00:00:00+0000', tz='UTC', freq='C'), Timestamp('2020-05-21 00:00:00+0000', tz='UTC', freq='C')]\n"
     ]
    }
   ],
   "source": [
    "#Remember that we can only predict one day in future as our model needs 5 variables\n",
    "#as inputs for prediction. We only have all 5 variables until the last day in our dataset.\n",
    "n_past = 16\n",
    "n_days_for_prediction=15  #let us predict past 15 days\n",
    "\n",
    "predict_period_dates = pd.date_range(list(train_dates)[-n_past], periods=n_days_for_prediction, freq=us_bd).tolist()\n",
    "print(predict_period_dates)\n"
   ]
  },
  {
   "cell_type": "code",
   "execution_count": 90,
   "metadata": {},
   "outputs": [
    {
     "data": {
      "text/plain": [
       "(1244, 14, 5)"
      ]
     },
     "execution_count": 90,
     "metadata": {},
     "output_type": "execute_result"
    }
   ],
   "source": [
    "trainX.shape\n"
   ]
  },
  {
   "cell_type": "code",
   "execution_count": 91,
   "metadata": {},
   "outputs": [
    {
     "name": "stdout",
     "output_type": "stream",
     "text": [
      "1/1 [==============================] - 1s 989ms/step\n"
     ]
    }
   ],
   "source": [
    "\n",
    "#Make prediction\n",
    "prediction = model.predict(trainX[-n_days_for_prediction:]) #shape = (n, 1) where n is the n_days_for_prediction\n",
    "\n",
    "\n"
   ]
  },
  {
   "cell_type": "code",
   "execution_count": 92,
   "metadata": {},
   "outputs": [
    {
     "data": {
      "text/plain": [
       "array([[2.0438154],\n",
       "       [2.105203 ],\n",
       "       [2.1605241],\n",
       "       [2.2247717],\n",
       "       [2.2926204],\n",
       "       [2.353237 ],\n",
       "       [2.4194775],\n",
       "       [2.4641697],\n",
       "       [2.4138744],\n",
       "       [2.4001043],\n",
       "       [2.3603594],\n",
       "       [2.4499323],\n",
       "       [2.4955547],\n",
       "       [2.546715 ],\n",
       "       [2.5775852]], dtype=float32)"
      ]
     },
     "execution_count": 92,
     "metadata": {},
     "output_type": "execute_result"
    }
   ],
   "source": [
    "prediction"
   ]
  },
  {
   "cell_type": "code",
   "execution_count": 93,
   "metadata": {},
   "outputs": [],
   "source": [
    "#Perform inverse transformation to rescale back to original range\n",
    "#Since we used 5 variables for transform, the inverse expects same dimensions\n",
    "#Therefore, let us copy our values 5 times and discard them after inverse transform\n",
    "prediction_copies = np.repeat(prediction, df_for_training.shape[1], axis=-1)\n",
    "y_pred_future = scaler.inverse_transform(prediction_copies)[:,0]"
   ]
  },
  {
   "cell_type": "code",
   "execution_count": 94,
   "metadata": {},
   "outputs": [],
   "source": [
    "\n",
    "# Convert timestamp to date\n",
    "forecast_dates = []\n",
    "for time_i in predict_period_dates:\n",
    "    forecast_dates.append(time_i.date())\n",
    "    \n",
    "df_forecast = pd.DataFrame({'Date':np.array(forecast_dates), 'Open':y_pred_future})\n",
    "df_forecast['Date']=pd.to_datetime(df_forecast['Date'])\n"
   ]
  },
  {
   "cell_type": "code",
   "execution_count": 101,
   "metadata": {},
   "outputs": [
    {
     "name": "stderr",
     "output_type": "stream",
     "text": [
      "C:\\Users\\Mukund Mishra\\AppData\\Local\\Temp\\ipykernel_9300\\2717579589.py:2: SettingWithCopyWarning: \n",
      "A value is trying to be set on a copy of a slice from a DataFrame.\n",
      "Try using .loc[row_indexer,col_indexer] = value instead\n",
      "\n",
      "See the caveats in the documentation: https://pandas.pydata.org/pandas-docs/stable/user_guide/indexing.html#returning-a-view-versus-a-copy\n",
      "  original['date']=pd.to_datetime(original['date'])\n"
     ]
    },
    {
     "data": {
      "text/plain": [
       "<AxesSubplot: ylabel='open'>"
      ]
     },
     "execution_count": 101,
     "metadata": {},
     "output_type": "execute_result"
    },
    {
     "data": {
      "image/png": "[encoded data removed]",
      "text/plain": [
       "<Figure size 640x480 with 1 Axes>"
      ]
     },
     "metadata": {},
     "output_type": "display_data"
    }
   ],
   "source": [
    "\n",
    "original = df[['date', 'open']]\n",
    "original['date']=pd.to_datetime(original['date'])\n",
    "# original = original.loc[original['date'] >= '2020-2-1']\n",
    "\n",
    "sns.lineplot( original['open'])\n",
    "sns.lineplot(df_forecast['Open'])"
   ]
  },
  {
   "cell_type": "code",
   "execution_count": 96,
   "metadata": {},
   "outputs": [
    {
     "data": {
      "text/plain": [
       "<AxesSubplot: ylabel='Open'>"
      ]
     },
     "execution_count": 96,
     "metadata": {},
     "output_type": "execute_result"
    },
    {
     "data": {
      "image/png": "[encoded data removed]",
      "text/plain": [
       "<Figure size 640x480 with 1 Axes>"
      ]
     },
     "metadata": {},
     "output_type": "display_data"
    }
   ],
   "source": [
    "# original = original.loc[original['date']]\n",
    "sns.lineplot(df_forecast['Open'])\n",
    "sns.lineplot(original['open'])\n",
    "\n"
   ]
  },
  {
   "cell_type": "code",
   "execution_count": null,
   "metadata": {},
   "outputs": [],
   "source": []
  }
 ],
 "metadata": {
  "kernelspec": {
   "display_name": "Python 3",
   "language": "python",
   "name": "python3"
  },
  "language_info": {
   "codemirror_mode": {
    "name": "ipython",
    "version": 3
   },
   "file_extension": ".py",
   "mimetype": "text/x-python",
   "name": "python",
   "nbconvert_exporter": "python",
   "pygments_lexer": "ipython3",
   "version": "3.10.9"
  },
  "orig_nbformat": 4,
  "vscode": {
   "interpreter": {
    "hash": "91d4e2271cf209bade5eacc82405e130e48ddbdbe9e6210b60ee5c51482ed339"
   }
  }
 },
 "nbformat": 4,
 "nbformat_minor": 2
}
